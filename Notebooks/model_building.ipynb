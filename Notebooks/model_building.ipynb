{
 "cells": [
  {
   "cell_type": "code",
   "execution_count": 2,
   "metadata": {},
   "outputs": [],
   "source": [
    "import pandas as pd\n",
    "import numpy as np"
   ]
  },
  {
   "cell_type": "code",
   "execution_count": 3,
   "metadata": {},
   "outputs": [],
   "source": [
    "df=pd.read_csv('../Data/final_data.csv')"
   ]
  },
  {
   "cell_type": "code",
   "execution_count": 4,
   "metadata": {},
   "outputs": [
    {
     "data": {
      "text/html": [
       "<div>\n",
       "<style scoped>\n",
       "    .dataframe tbody tr th:only-of-type {\n",
       "        vertical-align: middle;\n",
       "    }\n",
       "\n",
       "    .dataframe tbody tr th {\n",
       "        vertical-align: top;\n",
       "    }\n",
       "\n",
       "    .dataframe thead th {\n",
       "        text-align: right;\n",
       "    }\n",
       "</style>\n",
       "<table border=\"1\" class=\"dataframe\">\n",
       "  <thead>\n",
       "    <tr style=\"text-align: right;\">\n",
       "      <th></th>\n",
       "      <th>id</th>\n",
       "      <th>title</th>\n",
       "      <th>info</th>\n",
       "    </tr>\n",
       "  </thead>\n",
       "  <tbody>\n",
       "    <tr>\n",
       "      <th>0</th>\n",
       "      <td>19995</td>\n",
       "      <td>Avatar</td>\n",
       "      <td>in the 22nd century  a paraplegic marine is di...</td>\n",
       "    </tr>\n",
       "    <tr>\n",
       "      <th>1</th>\n",
       "      <td>285</td>\n",
       "      <td>Pirates of the Caribbean: At World's End</td>\n",
       "      <td>captain barbossa  long believed to be dead  ha...</td>\n",
       "    </tr>\n",
       "    <tr>\n",
       "      <th>2</th>\n",
       "      <td>206647</td>\n",
       "      <td>Spectre</td>\n",
       "      <td>a cryptic message from bond’s past sends him o...</td>\n",
       "    </tr>\n",
       "    <tr>\n",
       "      <th>3</th>\n",
       "      <td>49026</td>\n",
       "      <td>The Dark Knight Rises</td>\n",
       "      <td>following the death of district attorney harve...</td>\n",
       "    </tr>\n",
       "    <tr>\n",
       "      <th>4</th>\n",
       "      <td>49529</td>\n",
       "      <td>John Carter</td>\n",
       "      <td>john carter is a war-weary  former military ca...</td>\n",
       "    </tr>\n",
       "    <tr>\n",
       "      <th>...</th>\n",
       "      <td>...</td>\n",
       "      <td>...</td>\n",
       "      <td>...</td>\n",
       "    </tr>\n",
       "    <tr>\n",
       "      <th>4780</th>\n",
       "      <td>9367</td>\n",
       "      <td>El Mariachi</td>\n",
       "      <td>el mariachi just wants to play his guitar and ...</td>\n",
       "    </tr>\n",
       "    <tr>\n",
       "      <th>4781</th>\n",
       "      <td>72766</td>\n",
       "      <td>Newlyweds</td>\n",
       "      <td>a newlywed couples honeymoon is upended by the...</td>\n",
       "    </tr>\n",
       "    <tr>\n",
       "      <th>4782</th>\n",
       "      <td>231617</td>\n",
       "      <td>Signed, Sealed, Delivered</td>\n",
       "      <td>\"signed  sealed  delivered\" introduces a dedic...</td>\n",
       "    </tr>\n",
       "    <tr>\n",
       "      <th>4783</th>\n",
       "      <td>126186</td>\n",
       "      <td>Shanghai Calling</td>\n",
       "      <td>when ambitious new york attorney sam is sent t...</td>\n",
       "    </tr>\n",
       "    <tr>\n",
       "      <th>4784</th>\n",
       "      <td>25975</td>\n",
       "      <td>My Date with Drew</td>\n",
       "      <td>ever since the second grade when he first saw ...</td>\n",
       "    </tr>\n",
       "  </tbody>\n",
       "</table>\n",
       "<p>4785 rows × 3 columns</p>\n",
       "</div>"
      ],
      "text/plain": [
       "          id                                     title  \\\n",
       "0      19995                                    Avatar   \n",
       "1        285  Pirates of the Caribbean: At World's End   \n",
       "2     206647                                   Spectre   \n",
       "3      49026                     The Dark Knight Rises   \n",
       "4      49529                               John Carter   \n",
       "...      ...                                       ...   \n",
       "4780    9367                               El Mariachi   \n",
       "4781   72766                                 Newlyweds   \n",
       "4782  231617                 Signed, Sealed, Delivered   \n",
       "4783  126186                          Shanghai Calling   \n",
       "4784   25975                         My Date with Drew   \n",
       "\n",
       "                                                   info  \n",
       "0     in the 22nd century  a paraplegic marine is di...  \n",
       "1     captain barbossa  long believed to be dead  ha...  \n",
       "2     a cryptic message from bond’s past sends him o...  \n",
       "3     following the death of district attorney harve...  \n",
       "4     john carter is a war-weary  former military ca...  \n",
       "...                                                 ...  \n",
       "4780  el mariachi just wants to play his guitar and ...  \n",
       "4781  a newlywed couples honeymoon is upended by the...  \n",
       "4782  \"signed  sealed  delivered\" introduces a dedic...  \n",
       "4783  when ambitious new york attorney sam is sent t...  \n",
       "4784  ever since the second grade when he first saw ...  \n",
       "\n",
       "[4785 rows x 3 columns]"
      ]
     },
     "execution_count": 4,
     "metadata": {},
     "output_type": "execute_result"
    }
   ],
   "source": [
    "df"
   ]
  },
  {
   "cell_type": "code",
   "execution_count": 5,
   "metadata": {},
   "outputs": [],
   "source": [
    "import tqdm as notebook_tqdm"
   ]
  },
  {
   "cell_type": "code",
   "execution_count": 6,
   "metadata": {},
   "outputs": [
    {
     "name": "stderr",
     "output_type": "stream",
     "text": [
      "/opt/anaconda3/envs/movierecsys/lib/python3.12/site-packages/tqdm/auto.py:21: TqdmWarning: IProgress not found. Please update jupyter and ipywidgets. See https://ipywidgets.readthedocs.io/en/stable/user_install.html\n",
      "  from .autonotebook import tqdm as notebook_tqdm\n"
     ]
    }
   ],
   "source": [
    "from sentence_transformers import SentenceTransformer, util\n",
    "import torch"
   ]
  },
  {
   "cell_type": "code",
   "execution_count": 7,
   "metadata": {},
   "outputs": [],
   "source": [
    "model = SentenceTransformer('sentence-transformers/all-MiniLM-L6-v2')"
   ]
  },
  {
   "cell_type": "code",
   "execution_count": 8,
   "metadata": {},
   "outputs": [],
   "source": [
    "embeddings = model.encode(df['info'].tolist(), convert_to_tensor=True)"
   ]
  },
  {
   "cell_type": "code",
   "execution_count": 9,
   "metadata": {},
   "outputs": [
    {
     "data": {
      "text/plain": [
       "torch.Size([4785, 384])"
      ]
     },
     "execution_count": 9,
     "metadata": {},
     "output_type": "execute_result"
    }
   ],
   "source": [
    "embeddings.shape"
   ]
  },
  {
   "cell_type": "code",
   "execution_count": 10,
   "metadata": {},
   "outputs": [],
   "source": [
    "df['embeddings'] = embeddings.tolist()\n"
   ]
  },
  {
   "cell_type": "code",
   "execution_count": 11,
   "metadata": {},
   "outputs": [
    {
     "data": {
      "text/plain": [
       "384"
      ]
     },
     "execution_count": 11,
     "metadata": {},
     "output_type": "execute_result"
    }
   ],
   "source": [
    "len(df['embeddings'][3])"
   ]
  },
  {
   "cell_type": "code",
   "execution_count": 12,
   "metadata": {},
   "outputs": [
    {
     "data": {
      "text/plain": [
       "1    [-0.04783881828188896, -0.07887071371078491, -...\n",
       "Name: embeddings, dtype: object"
      ]
     },
     "execution_count": 12,
     "metadata": {},
     "output_type": "execute_result"
    }
   ],
   "source": [
    "df.loc[df['id'] == 285, 'embeddings']"
   ]
  },
  {
   "cell_type": "code",
   "execution_count": 13,
   "metadata": {},
   "outputs": [
    {
     "name": "stdout",
     "output_type": "stream",
     "text": [
      "Movies similar to: Avatar\n",
      "\n",
      "Description of the current movie: in the 22nd century  a paraplegic marine is dispatched to the moon pandora on a unique mission  but becomes torn between following orders and protecting an alien civilization. jamescameron action adventure fantasy sciencefiction cultureclash future spacewar spacecolony society spacetravel futuristic romance space alien tribe alienplanet cgi marine soldier battle loveaffair antiwar powerrelations mindandsoul 3d ingeniousfilmpartners twentiethcenturyfoxfilmcorporation duneentertainment lightstormentertainment samworthington zoesaldana sigourneyweaver release in the year 2009 lang en longMovie\n",
      "\n",
      "Title: Serenity\n",
      "Description: when the renegade crew of serenity agrees to hide a fugitive on their ship  they find themselves in an action-packed battle between the relentless military might of a totalitarian regime who will destroy anything – or anyone – to get the girl back and the bloodthirsty creatures who roam the uncharted areas of space. but... the greatest danger of all may be on their ship. josswhedon sciencefiction action adventure thriller martialarts telepathy dystopia spaceship fugitive basedontvseries planet throatslitting cannibal reavers operative exsoldier firefly universalpictures barrymendelproductions nathanfillion ginatorres alantudyk release in the year 2005 lang en mediumLength\n",
      "Similarity Score: 0.6164\n",
      "--------------------------------------------------\n",
      "Title: Aliens\n",
      "Description: when ripleys lifepod is found by a salvage crew over 50 years later  she finds that terra-formers are on the very planet they found the alien species. when the company sends a family of colonists out to investigate her story  all contact is lost with the planet and colonists. they enlist ripley and the colonial marines to return and search for answers. jamescameron horror action thriller sciencefiction android extraterrestrialtechnology spacemarine spaceman cryogenics vacuum spacecolony warriorwoman settler spacetravel colony alien xenomorph twentiethcenturyfoxfilmcorporation slmproductiongroup brandywineproductions sigourneyweaver michaelbiehn jamesremar release in the year 1986 lang en mediumLength\n",
      "Similarity Score: 0.5918\n",
      "--------------------------------------------------\n",
      "Title: The Abyss\n",
      "Description: a civilian oil rig crew is recruited to conduct a search and rescue effort when a nuclear submarine mysteriously sinks. one diver soon finds himself on a spectacular odyssey 25 000 feet below the oceans surface where he confronts a mysterious force that has the power to change the world or destroy it. jamescameron adventure action thriller sciencefiction ocean sea divingsuit flyingsaucer nuclearmissile alienlife-form insanity scubadiving underwater scuba deepsea trappedunderwater\\xa0 thalassophobia twentiethcenturyfoxfilmcorporation lightstormentertainment pacificwestern edharris maryelizabethmastrantonio michaelbiehn release in the year 1989 lang en mediumLength\n",
      "Similarity Score: 0.5887\n",
      "--------------------------------------------------\n",
      "Title: Home\n",
      "Description: when earth is taken over by the overly-confident boov  an alien race in search of a new place to call home  all humans are promptly relocated  while all boov get busy reorganizing the planet. but when one resourceful girl  tip  manages to avoid capture  she finds herself the accidental accomplice of a banished boov named oh. the two fugitives realize there’s a lot more at stake than intergalactic relations as they embark on the road trip of a lifetime. timjohnson fantasy comedy animation sciencefiction family friendship spaceship space alien alieninvasion alienfriendship awfulleader takingresposibility twentiethcenturyfoxfilmcorporation dreamworksanimation jimparsons rihanna stevemartin release in the year 2015 lang en mediumLength\n",
      "Similarity Score: 0.5521\n",
      "--------------------------------------------------\n",
      "Title: Lara Croft: Tomb Raider\n",
      "Description: english aristocrat lara croft is skilled in hand-to-hand combat and in the middle of a battle with a secret society. the shapely archaeologist moonlights as a tomb raider to recover lost antiquities and meets her match in the evil powell  whos in search of a powerful relic. simonwest adventure fantasy action thriller treasure buddhistmonk planetaryconfiguration angkorwat illuminati williamblake treasurehunt archaeologist basedonvideogame archeology\\xa0 paramountpictures toho-towa mutualfilmcompany lawrencegordonproductions britishbroadcastingcorporationbbc marubeni eidosinteractive angelinajolie jonvoight iainglen release in the year 2001 lang en mediumLength\n",
      "Similarity Score: 0.5502\n",
      "--------------------------------------------------\n"
     ]
    }
   ],
   "source": [
    "def find_similar_movies(movie_id, df, top_n=5):\n",
    "    # Get the embedding of the selected movie (convert list to tensor)\n",
    "    query_embedding = torch.tensor(df.loc[df['id'] == movie_id, 'embeddings'].values[0])\n",
    "\n",
    "    # Convert all embeddings in the DataFrame to a tensor\n",
    "    all_embeddings = torch.stack([torch.tensor(emb) for emb in df['embeddings'].tolist()])\n",
    "\n",
    "    # Compute cosine similarity between query movie and all movies\n",
    "    similarities = util.pytorch_cos_sim(query_embedding, all_embeddings)[0]\n",
    "\n",
    "    # Get top N similar movies (excluding the query movie itself)\n",
    "    top_indices = torch.topk(similarities, k=top_n+1).indices.tolist()  # +1 to exclude the query movie itself\n",
    "\n",
    "    # Extract and print movie details\n",
    "    print(f\"Movies similar to: {df.loc[df['id'] == movie_id, 'title'].values[0]}\\n\")\n",
    "    print(f\"Description of the current movie: {df.loc[df['id'] == movie_id, 'info'].values[0]}\\n\")\n",
    "    for idx in top_indices[1:]:  # Skip the first one since it's the query movie itself\n",
    "        movie = df.iloc[idx]\n",
    "        print(f\"Title: {movie['title']}\")\n",
    "        print(f\"Description: {movie['info']}\")\n",
    "        print(f\"Similarity Score: {similarities[idx].item():.4f}\")\n",
    "        print(\"-\" * 50)\n",
    "\n",
    "# Example usage for movie ID 34\n",
    "find_similar_movies(19995, df)"
   ]
  },
  {
   "cell_type": "code",
   "execution_count": 14,
   "metadata": {},
   "outputs": [],
   "source": [
    "model.save_pretrained(\"sbert_model\")  # Save the model"
   ]
  },
  {
   "cell_type": "code",
   "execution_count": 15,
   "metadata": {},
   "outputs": [],
   "source": [
    "df.to_csv('../Data/vectors.csv',index=False)"
   ]
  },
  {
   "cell_type": "code",
   "execution_count": null,
   "metadata": {},
   "outputs": [],
   "source": []
  }
 ],
 "metadata": {
  "kernelspec": {
   "display_name": "movierecsys",
   "language": "python",
   "name": "python3"
  },
  "language_info": {
   "codemirror_mode": {
    "name": "ipython",
    "version": 3
   },
   "file_extension": ".py",
   "mimetype": "text/x-python",
   "name": "python",
   "nbconvert_exporter": "python",
   "pygments_lexer": "ipython3",
   "version": "3.12.7"
  }
 },
 "nbformat": 4,
 "nbformat_minor": 2
}
